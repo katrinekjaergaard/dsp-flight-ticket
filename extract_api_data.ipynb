{
 "cells": [
  {
   "cell_type": "markdown",
   "metadata": {},
   "source": [
    "**Extracting data from API**"
   ]
  },
  {
   "cell_type": "code",
   "execution_count": 8,
   "metadata": {},
   "outputs": [],
   "source": [
    "import requests # library for making HTTP requests\n",
    "import pandas as pd # library for data analysis\n",
    "import datetime as dt # library for handling date and time objects\n",
    "from datetime import datetime, timedelta\n",
    "import csv"
   ]
  },
  {
   "cell_type": "code",
   "execution_count": 9,
   "metadata": {},
   "outputs": [],
   "source": [
    "# Read the keys and tokens into a dictionary\n",
    "my_dict = {}\n",
    "\n",
    "with open(\".env\", \"r\") as f:\n",
    "    for line in f:\n",
    "        key,val = line.split('=')\n",
    "        my_dict[key.strip()] = val.strip()"
   ]
  },
  {
   "cell_type": "code",
   "execution_count": 10,
   "metadata": {},
   "outputs": [],
   "source": [
    "api_key = my_dict['api_key']"
   ]
  },
  {
   "cell_type": "code",
   "execution_count": 11,
   "metadata": {},
   "outputs": [],
   "source": [
    "import csv\n",
    "import requests\n",
    "from datetime import datetime, timedelta\n",
    "import time\n",
    "\n",
    "# Set up the base parts of the request\n",
    "url = \"https://skyscanner80.p.rapidapi.com/api/v1/flights/search-one-way\"\n",
    "headers = {\n",
    "    \"X-RapidAPI-Key\": api_key,\n",
    "    \"X-RapidAPI-Host\": \"skyscanner80.p.rapidapi.com\"\n",
    "}\n",
    "\n",
    "# CSV file setup\n",
    "csv_file_name = 'flight_data.csv'\n",
    "with open(csv_file_name, 'w', newline='') as file:\n",
    "    writer = csv.writer(file)\n",
    "    writer.writerow(['Airline', 'Flight Number', 'Source City', 'Departure Time', 'Number of Stops', 'Arrival Time', 'Destination City', 'Duration (Minutes)', 'Price'])\n",
    "\n",
    "    # Use today's date as the starting point\n",
    "    start_date = datetime.now()\n",
    "\n",
    "    # Loop over the next 2 days for demonstration (change to 30 for actual use)\n",
    "    for offset in range(300):\n",
    "        # Calculate the date for the current iteration\n",
    "        depart_date = start_date + timedelta(days=offset)\n",
    "        # Format the date in YYYY-MM-DD format\n",
    "        formatted_date = depart_date.strftime('%Y-%m-%d')\n",
    "\n",
    "        # Update the query string with the new date\n",
    "        querystring = {\n",
    "            \"fromId\": \"eyJzIjoiTEFYQSIsImUiOiIyNzUzNjIxMSIsImgiOiIyNzUzNjIxMSJ9\",\n",
    "            \"toId\": \"eyJzIjoiTE9ORCIsImUiOiIyNzU0NDAwOCIsImgiOiIyNzU0NDAwOCJ9\",\n",
    "            \"departDate\": formatted_date,\n",
    "            \"adults\": \"1\",\n",
    "            \"currency\": \"USD\",\n",
    "            \"market\": \"US\",\n",
    "            \"locale\": \"en-US\"\n",
    "        }\n",
    "\n",
    "        # Make the request\n",
    "        response = requests.get(url, headers=headers, params=querystring)\n",
    "\n",
    "        # Check if the request was successful\n",
    "        if response.status_code == 200:\n",
    "            data = response.json()\n",
    "            itineraries = data['data']['itineraries'] if 'data' in data and 'itineraries' in data['data'] else []\n",
    "\n",
    "            # Process each itinerary\n",
    "            for itinerary in itineraries:\n",
    "                price = itinerary['price']['formatted']\n",
    "                for leg in itinerary['legs']:\n",
    "                    airline = leg['carriers']['marketing'][0]['name']\n",
    "                    flight_number = leg['segments'][0]['flightNumber']\n",
    "                    source_city = leg['origin']['city']\n",
    "                    departure_time = leg['departure']\n",
    "                    number_of_stops = leg['stopCount']\n",
    "                    arrival_time = leg['arrival']\n",
    "                    destination_city = leg['destination']['city']\n",
    "                    duration = leg['durationInMinutes']\n",
    "\n",
    "                    # Write the details to the CSV\n",
    "                    writer.writerow([airline, flight_number, source_city, departure_time, number_of_stops, arrival_time, destination_city, duration, price])\n",
    "        else:\n",
    "            # Log failed requests\n",
    "            print(f\"Failed to fetch data for {formatted_date}: {response.status_code}\")\n",
    "\n",
    "        # Include a pause to respect API rate limits\n",
    "        time.sleep(1)\n"
   ]
  }
 ],
 "metadata": {
  "kernelspec": {
   "display_name": "Python 3",
   "language": "python",
   "name": "python3"
  },
  "language_info": {
   "codemirror_mode": {
    "name": "ipython",
    "version": 3
   },
   "file_extension": ".py",
   "mimetype": "text/x-python",
   "name": "python",
   "nbconvert_exporter": "python",
   "pygments_lexer": "ipython3",
   "version": "3.11.5"
  }
 },
 "nbformat": 4,
 "nbformat_minor": 2
}
